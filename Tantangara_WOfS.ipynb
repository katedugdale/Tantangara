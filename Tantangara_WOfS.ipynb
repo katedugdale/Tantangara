{
 "cells": [
  {
   "cell_type": "markdown",
   "metadata": {},
   "source": [
    "# Calling Tantangara WOfS data"
   ]
  },
  {
   "cell_type": "markdown",
   "metadata": {},
   "source": [
    "# Loading the modules we need to work with WOfS data"
   ]
  },
  {
   "cell_type": "code",
   "execution_count": 1,
   "metadata": {},
   "outputs": [],
   "source": [
    "#Firstly, we have to install the python 3 modules that let us communicate with our operating system\n",
    "\n",
    "import sys\n",
    "import os"
   ]
  },
  {
   "cell_type": "code",
   "execution_count": 2,
   "metadata": {},
   "outputs": [],
   "source": [
    "#Now let's import some python 3 modules that let us work with numbers, run background equations and make plots\n",
    "#np and pd are what everyone uses as short hand for these modules, so we should stick with those\n",
    "\n",
    "import numpy as np\n",
    "import pandas as pd\n",
    "import matplotlib.gridspec as gridspec\n",
    "import matplotlib.pyplot as plt"
   ]
  },
  {
   "cell_type": "code",
   "execution_count": 3,
   "metadata": {},
   "outputs": [],
   "source": [
    "#We also want to get some special modules from our operating system to work with our datacube\n",
    "\n",
    "import datacube\n",
    "from datacube.utils import geometry \n",
    "from datacube.utils.geometry import CRS\n",
    "from datacube.storage import masking\n",
    "from datacube.helpers import ga_pq_fuser, write_geotiff\n",
    "from digitalearthau.utils import wofs_fuser #wofs_fuser puts the tiles for the same time point together"
   ]
  },
  {
   "cell_type": "code",
   "execution_count": 4,
   "metadata": {},
   "outputs": [],
   "source": [
    "#We have to add the plotting tools to the directory list with path.append\n",
    "sys.path.append('../10_Scripts/')\n",
    "import DEAPlotting, DEADataHandling\n",
    "\n",
    "#ignore datacube warnings (needs to be last import statement)\n",
    "import warnings\n",
    "warnings.filterwarnings('ignore', module='datacube')"
   ]
  },
  {
   "cell_type": "code",
   "execution_count": 5,
   "metadata": {},
   "outputs": [],
   "source": [
    "\n",
    "\n",
    "%load_ext autoreload\n",
    "\n",
    "%autoreload 2"
   ]
  },
  {
   "cell_type": "markdown",
   "metadata": {},
   "source": [
    "# Now choose where this will all be saved"
   ]
  },
  {
   "cell_type": "code",
   "execution_count": 7,
   "metadata": {},
   "outputs": [
    {
     "data": {
      "text/plain": [
       "'/g/data/r78/kd6095/dea-notebooksTantangara_WOfS'"
      ]
     },
     "execution_count": 7,
     "metadata": {},
     "output_type": "execute_result"
    }
   ],
   "source": [
    "#save files to your home directory (add your outpath here if you want to change it)\n",
    "savefilepath = '/g/data/r78/kd6095/dea-notebooks'\n",
    "\n",
    "#and name the file\n",
    "savefilepath + 'Tantangara_WOfS'"
   ]
  },
  {
   "cell_type": "markdown",
   "metadata": {},
   "source": [
    "# Let's have a look at what WOfS datasets we have"
   ]
  },
  {
   "cell_type": "code",
   "execution_count": 8,
   "metadata": {},
   "outputs": [
    {
     "data": {
      "text/html": [
       "<div>\n",
       "<style scoped>\n",
       "    .dataframe tbody tr th:only-of-type {\n",
       "        vertical-align: middle;\n",
       "    }\n",
       "\n",
       "    .dataframe tbody tr th {\n",
       "        vertical-align: top;\n",
       "    }\n",
       "\n",
       "    .dataframe thead th {\n",
       "        text-align: right;\n",
       "    }\n",
       "</style>\n",
       "<table border=\"1\" class=\"dataframe\">\n",
       "  <thead>\n",
       "    <tr style=\"text-align: right;\">\n",
       "      <th></th>\n",
       "      <th>name</th>\n",
       "      <th>description</th>\n",
       "    </tr>\n",
       "    <tr>\n",
       "      <th>id</th>\n",
       "      <th></th>\n",
       "      <th></th>\n",
       "    </tr>\n",
       "  </thead>\n",
       "  <tbody>\n",
       "    <tr>\n",
       "      <th>77</th>\n",
       "      <td>wofs_albers</td>\n",
       "      <td>Historic Flood Mapping Water Observations from Space</td>\n",
       "    </tr>\n",
       "    <tr>\n",
       "      <th>97</th>\n",
       "      <td>wofs_annual_summary</td>\n",
       "      <td>Water Observations from Space Annual Statistics</td>\n",
       "    </tr>\n",
       "    <tr>\n",
       "      <th>100</th>\n",
       "      <td>wofs_apr_oct_summary</td>\n",
       "      <td>Water Observations from Space April to October Statistics</td>\n",
       "    </tr>\n",
       "    <tr>\n",
       "      <th>85</th>\n",
       "      <td>wofs_filtered_summary</td>\n",
       "      <td>Water Observations from Space Statistics confidence filtered</td>\n",
       "    </tr>\n",
       "    <tr>\n",
       "      <th>101</th>\n",
       "      <td>wofs_nov_mar_summary</td>\n",
       "      <td>Water Observations from Space November to March Statistics</td>\n",
       "    </tr>\n",
       "    <tr>\n",
       "      <th>84</th>\n",
       "      <td>wofs_summary</td>\n",
       "      <td>Water Observations from Space Statistics</td>\n",
       "    </tr>\n",
       "  </tbody>\n",
       "</table>\n",
       "</div>"
      ],
      "text/plain": [
       "                      name  \\\n",
       "id                           \n",
       "77   wofs_albers             \n",
       "97   wofs_annual_summary     \n",
       "100  wofs_apr_oct_summary    \n",
       "85   wofs_filtered_summary   \n",
       "101  wofs_nov_mar_summary    \n",
       "84   wofs_summary            \n",
       "\n",
       "                                                      description  \n",
       "id                                                                 \n",
       "77   Historic Flood Mapping Water Observations from Space          \n",
       "97   Water Observations from Space Annual Statistics               \n",
       "100  Water Observations from Space April to October Statistics     \n",
       "85   Water Observations from Space Statistics confidence filtered  \n",
       "101  Water Observations from Space November to March Statistics    \n",
       "84   Water Observations from Space Statistics                      "
      ]
     },
     "execution_count": 8,
     "metadata": {},
     "output_type": "execute_result"
    }
   ],
   "source": [
    "#We have to go into the data cube and get the data to do with WOfS\n",
    "dc = datacube.Datacube(app='dc-WOfS')\n",
    "\n",
    "#We want to list the products\n",
    "products = dc.list_products()\n",
    "\n",
    "#We have to use the pandas module and tell it to make a table\n",
    "pd.set_option('display.max_colwidth', -1)\n",
    "display_columns = ['name', 'description']\n",
    "dc_products = products[display_columns]\n",
    "\n",
    "#We want to see datasets where the 'name' contains 'wofs'\n",
    "dc_products[dc_products['name'].str.contains(\"wofs\")]"
   ]
  },
  {
   "cell_type": "markdown",
   "metadata": {},
   "source": [
    "Great, we want the wofs_filtered_summary dataset"
   ]
  },
  {
   "cell_type": "markdown",
   "metadata": {},
   "source": [
    "# OK let's load the Tantangara WOfS data!!!"
   ]
  },
  {
   "cell_type": "code",
   "execution_count": 25,
   "metadata": {},
   "outputs": [],
   "source": [
    "# The latitude for the middle of Tantangara dam is 35.75 S, and the longtitude is 148.66 E. Set buffer to 6500. \n",
    "# The buffer is how much space around the coordinates you want to show on the map\n",
    "lat, lon, buffer = -35.75, 148.66, 6500\n",
    "\n",
    "# The CRS is the coordinate reference system number. For Australia it is EPSG:3577\n",
    "x, y = geometry.point(lon, lat, CRS('WGS84')).to_crs(CRS('EPSG:3577')).points[0]\n",
    "\n",
    "# Now we've set the lat and long, we need to set the third dimension, time.\n",
    "query = {'x': (x - buffer, x + buffer),\n",
    "         'y': (y - buffer, y + buffer),    \n",
    "         #'time': ('1999-01-01', '2019-01-01'),\n",
    "         'time': ('1999-01-01', '2015-01-01','2019-07-01'),\n",
    "         'crs': 'EPSG:3577'}"
   ]
  },
  {
   "cell_type": "code",
   "execution_count": 26,
   "metadata": {},
   "outputs": [
    {
     "data": {
      "text/plain": [
       "<xarray.Dataset>\n",
       "Dimensions:                (time: 1, x: 521, y: 521)\n",
       "Coordinates:\n",
       "  * time                   (time) datetime64[ns] 2018-08-07T18:16:11.135475\n",
       "  * y                      (y) float64 -3.997e+06 -3.997e+06 ... -4.01e+06\n",
       "  * x                      (x) float64 1.495e+06 1.495e+06 ... 1.508e+06\n",
       "Data variables:\n",
       "    confidence             (time, y, x) float32 0.00030722655 ... 2.4492383e-05\n",
       "    wofs_filtered_summary  (time, y, x) float32 -1.0 -1.0 -1.0 ... -1.0 -1.0\n",
       "Attributes:\n",
       "    crs:      EPSG:3577"
      ]
     },
     "execution_count": 26,
     "metadata": {},
     "output_type": "execute_result"
    }
   ],
   "source": [
    "# OK we're going to see where we are in the dataset by showing the query.\n",
    "\n",
    "# Now, this line of code USED to be the following:\n",
    "# wofs_filtered_summary= dc.load(product = 'wofs_filtered_summary',fuse_func = wofs_fuser, **query)\n",
    "\n",
    "# However, there seems to be a problem with the wofs_fuser. Erin found a fix using group_by = 'solar_day' instead\n",
    "# But we better ask Bex why the fuser isn't working.... \n",
    "\n",
    "wofs_filtered_summary= dc.load(product = 'wofs_filtered_summary', group_by = 'solar_day', **query)\n",
    "\n",
    "#This is the print command for the summary\n",
    "wofs_filtered_summary"
   ]
  },
  {
   "cell_type": "markdown",
   "metadata": {},
   "source": [
    "The interesting part to note is the depth of the time dimension "
   ]
  },
  {
   "cell_type": "markdown",
   "metadata": {},
   "source": [
    "# Let's have a look at the confidence layer"
   ]
  },
  {
   "cell_type": "markdown",
   "metadata": {},
   "source": [
    "The WOfS filtered summary has two variables: the confidence layer and the filtered summary. \n",
    "If we plot the WOfS filtered summary layer we can see areas that have been removed because \n",
    "the confidence value is below 10% (they're blue)\n",
    "\n",
    "We are plotting the confidence layer. Next we will plot the %wet time. "
   ]
  },
  {
   "cell_type": "code",
   "execution_count": 27,
   "metadata": {},
   "outputs": [
    {
     "data": {
      "text/plain": [
       "<matplotlib.collections.QuadMesh at 0x7fc9d21f4b70>"
      ]
     },
     "execution_count": 27,
     "metadata": {},
     "output_type": "execute_result"
    },
    {
     "data": {
      "image/png": "[encoded data removed]",
      "text/plain": [
       "<Figure size 432x288 with 2 Axes>"
      ]
     },
     "metadata": {
      "needs_background": "light"
     },
     "output_type": "display_data"
    }
   ],
   "source": [
    "# OK lets plot it with the .plot() function!\n",
    "wofs_filtered_summary.wofs_filtered_summary.isel(time=0).plot()"
   ]
  },
  {
   "cell_type": "markdown",
   "metadata": {},
   "source": [
    "# Now let's plot the WOfS data for % of the time an area was wet"
   ]
  },
  {
   "cell_type": "code",
   "execution_count": 28,
   "metadata": {},
   "outputs": [
    {
     "name": "stdout",
     "output_type": "stream",
     "text": [
      "xarray dataset has no spatial data; defaulting to plotting without coordinates. This can often be resolved by adding `keep_attrs = True` during an aggregation step\n"
     ]
    },
    {
     "data": {
      "image/png": "[encoded data removed]",
      "text/plain": [
       "<Figure size 720x720 with 2 Axes>"
      ]
     },
     "metadata": {
      "needs_background": "light"
     },
     "output_type": "display_data"
    }
   ],
   "source": [
    "#this contains a sneaky workaround - currently plot_WOfS is expecting values from 0 to 100\n",
    "DEAPlotting.plot_WOfS(wofs_filtered_summary.wofs_filtered_summary.isel(time=0)*100)\n",
    "#ignore the error message about spatial data.. \n",
    "#save your image\n",
    "plt.savefig(savefilepath + 'Tantangara_WOfS_image.png')"
   ]
  },
  {
   "cell_type": "markdown",
   "metadata": {},
   "source": [
    "Wow that's a nice picture of Tantangara, good job."
   ]
  },
  {
   "cell_type": "markdown",
   "metadata": {},
   "source": [
    "# Nice, you plotted Tantangara dam on WOfS!!"
   ]
  }
 ],
 "metadata": {
  "kernelspec": {
   "display_name": "Python 3",
   "language": "python",
   "name": "python3"
  },
  "language_info": {
   "codemirror_mode": {
    "name": "ipython",
    "version": 3
   },
   "file_extension": ".py",
   "mimetype": "text/x-python",
   "name": "python",
   "nbconvert_exporter": "python",
   "pygments_lexer": "ipython3",
   "version": "3.6.7"
  }
 },
 "nbformat": 4,
 "nbformat_minor": 2
}
